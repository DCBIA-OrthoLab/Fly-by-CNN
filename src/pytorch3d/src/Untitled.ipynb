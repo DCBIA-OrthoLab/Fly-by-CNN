{
 "cells": [
  {
   "cell_type": "code",
   "execution_count": 1,
   "id": "178644a6-4cc6-4336-9e59-8eb7ecf74728",
   "metadata": {},
   "outputs": [
    {
     "name": "stdout",
     "output_type": "stream",
     "text": [
      "Looking in links: https://dl.fbaipublicfiles.com/pytorch3d/packaging/wheels/py39_cu102_pyt191/download.html\n",
      "Collecting pytorch3d\n",
      "  Downloading https://dl.fbaipublicfiles.com/pytorch3d/packaging/wheels/py39_cu102_pyt191/pytorch3d-0.6.0-cp39-cp39-linux_x86_64.whl (14.8 MB)\n",
      "\u001b[K     |████████████████████████████████| 14.8 MB 87 kB/s  eta 0:00:01\n",
      "\u001b[?25hRequirement already satisfied: fvcore in /NIRAL/tools/anaconda3/envs/monai/lib/python3.9/site-packages (from pytorch3d) (0.1.5.post20211023)\n",
      "Requirement already satisfied: iopath in /NIRAL/tools/anaconda3/envs/monai/lib/python3.9/site-packages (from pytorch3d) (0.1.9)\n",
      "Requirement already satisfied: yacs>=0.1.6 in /NIRAL/tools/anaconda3/envs/monai/lib/python3.9/site-packages (from fvcore->pytorch3d) (0.1.8)\n",
      "Requirement already satisfied: termcolor>=1.1 in /NIRAL/tools/anaconda3/envs/monai/lib/python3.9/site-packages (from fvcore->pytorch3d) (1.1.0)\n",
      "Requirement already satisfied: tabulate in /NIRAL/tools/anaconda3/envs/monai/lib/python3.9/site-packages (from fvcore->pytorch3d) (0.8.9)\n",
      "Requirement already satisfied: Pillow in /NIRAL/tools/anaconda3/envs/monai/lib/python3.9/site-packages (from fvcore->pytorch3d) (8.4.0)\n",
      "Requirement already satisfied: pyyaml>=5.1 in /NIRAL/tools/anaconda3/envs/monai/lib/python3.9/site-packages (from fvcore->pytorch3d) (6.0)\n",
      "Requirement already satisfied: tqdm in /NIRAL/tools/anaconda3/envs/monai/lib/python3.9/site-packages (from fvcore->pytorch3d) (4.62.3)\n",
      "Requirement already satisfied: numpy in /NIRAL/tools/anaconda3/envs/monai/lib/python3.9/site-packages (from fvcore->pytorch3d) (1.21.2)\n",
      "Requirement already satisfied: portalocker in /NIRAL/tools/anaconda3/envs/monai/lib/python3.9/site-packages (from iopath->pytorch3d) (2.3.2)\n",
      "Installing collected packages: pytorch3d\n",
      "Successfully installed pytorch3d-0.6.0\n"
     ]
    }
   ],
   "source": [
    "import os\n",
    "import sys\n",
    "import torch\n",
    "need_pytorch3d=False\n",
    "try:\n",
    "    import pytorch3d\n",
    "except ModuleNotFoundError:\n",
    "    need_pytorch3d=True\n",
    "if need_pytorch3d:\n",
    "    if torch.__version__.startswith(\"1.9\") and sys.platform.startswith(\"linux\"):\n",
    "        # We try to install PyTorch3D via a released wheel.\n",
    "        version_str=\"\".join([\n",
    "            f\"py3{sys.version_info.minor}_cu\",\n",
    "            torch.version.cuda.replace(\".\",\"\"),\n",
    "            f\"_pyt{torch.__version__[0:5:2]}\"\n",
    "        ])\n",
    "        !pip install pytorch3d -f https://dl.fbaipublicfiles.com/pytorch3d/packaging/wheels/{version_str}/download.html\n",
    "    else:\n",
    "        # We try to install PyTorch3D from source.\n",
    "        !curl -LO https://github.com/NVIDIA/cub/archive/1.10.0.tar.gz\n",
    "        !tar xzf 1.10.0.tar.gz\n",
    "        os.environ[\"CUB_HOME\"] = os.getcwd() + \"/cub-1.10.0\"\n",
    "        !pip install 'git+https://github.com/facebookresearch/pytorch3d.git@stable'"
   ]
  },
  {
   "cell_type": "code",
   "execution_count": null,
   "id": "dafaa483-4005-43f4-9372-998c973b22e9",
   "metadata": {},
   "outputs": [],
   "source": []
  }
 ],
 "metadata": {
  "kernelspec": {
   "display_name": "Python 3 (ipykernel)",
   "language": "python",
   "name": "python3"
  },
  "language_info": {
   "codemirror_mode": {
    "name": "ipython",
    "version": 3
   },
   "file_extension": ".py",
   "mimetype": "text/x-python",
   "name": "python",
   "nbconvert_exporter": "python",
   "pygments_lexer": "ipython3",
   "version": "3.9.7"
  }
 },
 "nbformat": 4,
 "nbformat_minor": 5
}
