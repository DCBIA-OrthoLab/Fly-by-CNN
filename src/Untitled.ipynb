{
 "cells": [
  {
   "cell_type": "code",
   "execution_count": 1,
   "id": "4c3398e1-7eda-432b-b076-7d39d7803f0d",
   "metadata": {},
   "outputs": [
    {
     "name": "stdout",
     "output_type": "stream",
     "text": [
      "tensor([[4, 3],\n",
      "        [3, 5]])\n"
     ]
    }
   ],
   "source": [
    "import torch\n",
    "src = torch.tensor([[4, 3, 5],\n",
    "                    [6, 7, 8]])\n",
    "\n",
    "index = torch.tensor([[0,1],\n",
    "                      [1,2]])\n",
    "print(torch.take(src, index))"
   ]
  },
  {
   "cell_type": "code",
   "execution_count": null,
   "id": "3062fcb6-a2e2-49c0-a813-be4821fdda66",
   "metadata": {},
   "outputs": [],
   "source": []
  },
  {
   "cell_type": "code",
   "execution_count": null,
   "id": "20a1ca67-94d6-4fc0-b20c-1d7548bb5784",
   "metadata": {},
   "outputs": [],
   "source": []
  }
 ],
 "metadata": {
  "kernelspec": {
   "display_name": "Python 3 (ipykernel)",
   "language": "python",
   "name": "python3"
  },
  "language_info": {
   "codemirror_mode": {
    "name": "ipython",
    "version": 3
   },
   "file_extension": ".py",
   "mimetype": "text/x-python",
   "name": "python",
   "nbconvert_exporter": "python",
   "pygments_lexer": "ipython3",
   "version": "3.9.7"
  }
 },
 "nbformat": 4,
 "nbformat_minor": 5
}
